{
 "cells": [
  {
   "cell_type": "code",
   "execution_count": 3,
   "metadata": {},
   "outputs": [],
   "source": [
    "import csv\n",
    "from glob import glob\n",
    "from os import path\n",
    "\n",
    "TMP_PATH = path.join('tmp')\n",
    "DATA_PATH = path.join('data')\n",
    "DATA_ORIGIN_PATH = path.join('data_originals')"
   ]
  },
  {
   "cell_type": "code",
   "execution_count": 5,
   "metadata": {},
   "outputs": [
    {
     "data": {
      "text/plain": [
       "['1000000',\n",
       " '1000003',\n",
       " '2000000',\n",
       " '3000000',\n",
       " '4000002',\n",
       " '5000000',\n",
       " '6000002',\n",
       " '6000022',\n",
       " '7000002',\n",
       " '7000022',\n",
       " '8000002',\n",
       " '8000022',\n",
       " '9000003',\n",
       " '9000013',\n",
       " '9001001']"
      ]
     },
     "execution_count": 5,
     "metadata": {},
     "output_type": "execute_result"
    }
   ],
   "source": [
    "CLASSES_FILE = path.join(DATA_ORIGIN_PATH, 'classes.csv')\n",
    "\n",
    "top_concepts = []\n",
    "with open(CLASSES_FILE, 'r', encoding='utf-8-sig') as csvinput:\n",
    "  csvreader = csv.reader(csvinput)\n",
    "  next(csvreader) # @comment skip header\n",
    "  for line in csvreader:\n",
    "    if line[1] == '': # CLASSIDPARENT\n",
    "      top_concepts.append(line[0])\n",
    "top_concepts.sort()\n",
    "top_concepts"
   ]
  },
  {
   "cell_type": "code",
   "execution_count": 7,
   "metadata": {},
   "outputs": [],
   "source": [
    "LB300_FILE = path.join(DATA_ORIGIN_PATH, 'okuma_lb3000.csv')\n",
    "\n",
    "set1 = []\n",
    "set2 = []\n",
    "with open(LB300_FILE, 'r', encoding='utf-8-sig') as csvinput:\n",
    "  csvreader = csv.reader(csvinput)\n",
    "  next(csvreader) # @comment skip header\n",
    "  for i, line in enumerate(csvreader):\n",
    "    if line[4] in top_concepts: # CEL_INVENTCLASSAID1\n",
    "      set1.append([i, line[2], line[4], line[6]])\n",
    "    if line[11] in top_concepts: # CEL_INVENTCLASSAID2\n",
    "      set2.append([i, line[9], line[11], line[6]])\n",
    "\n",
    "SET1_FILE = path.join(TMP_PATH, 'set1.csv')\n",
    "with open(SET1_FILE, 'w') as output:\n",
    "  csvwriter = csv.writer(output)\n",
    "  csvwriter.writerow(['INDEX', 'NAME', 'CLASS', 'RELATION'])\n",
    "  csvwriter.writerows(set1)\n",
    "\n",
    "SET2_FILE = path.join(TMP_PATH, 'set2.csv')\n",
    "with open(SET2_FILE, 'w') as output:\n",
    "  csvwriter = csv.writer(output)\n",
    "  csvwriter.writerow(['INDEX', 'NAME', 'CLASS', 'RELATION'])\n",
    "  csvwriter.writerows(set2)\n"
   ]
  }
 ],
 "metadata": {
  "kernelspec": {
   "display_name": "p3_11-olartes",
   "language": "python",
   "name": "python3"
  },
  "language_info": {
   "codemirror_mode": {
    "name": "ipython",
    "version": 3
   },
   "file_extension": ".py",
   "mimetype": "text/x-python",
   "name": "python",
   "nbconvert_exporter": "python",
   "pygments_lexer": "ipython3",
   "version": "3.11.9"
  }
 },
 "nbformat": 4,
 "nbformat_minor": 2
}
