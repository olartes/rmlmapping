{
 "cells": [
  {
   "cell_type": "markdown",
   "metadata": {},
   "source": [
    "## Config"
   ]
  },
  {
   "cell_type": "code",
   "execution_count": 139,
   "metadata": {},
   "outputs": [],
   "source": [
    "from glob import glob\n",
    "from os import path\n",
    "\n",
    "VENDOR_PATH = path.join('vendor')\n",
    "TMP_PATH = path.join('tmp')\n",
    "\n",
    "DATA_PATH = path.join('data')\n",
    "DATA_ORIGIN_PATH = path.join('data_originals')\n",
    "\n",
    "RML_PATH = path.join('rml')\n",
    "RML_RULES_PATH = path.join(RML_PATH, 'rules')\n",
    "RML_MAPPER_JAR = path.join(VENDOR_PATH, 'rmlmapper-7.0.0-r374-all.jar')\n",
    "\n",
    "MAPPING_TEMPLATE = path.join(RML_PATH, 'mapping.template.ttl')\n",
    "MAPPING_TEMPLATE_BAK = path.join(RML_PATH, 'mapping.template.ttl-bak')\n",
    "MAPPING_FILE = path.join(TMP_PATH, 'mapping.rml.ttl')\n",
    "\n",
    "OUTPUT_DIR = path.join('output')\n",
    "\n",
    "RED='\\033[0;31m'\n",
    "GREEN='\\033[0;32m'\n",
    "NC='\\033[0m' # No Color\n"
   ]
  },
  {
   "cell_type": "markdown",
   "metadata": {},
   "source": [
    "## Preparing structure"
   ]
  },
  {
   "cell_type": "code",
   "execution_count": 140,
   "metadata": {},
   "outputs": [],
   "source": [
    "from os import mkdir\n",
    "\n",
    "if not path.exists(DATA_PATH):\n",
    "  mkdir(DATA_PATH)\n",
    "\n",
    "if not path.exists(DATA_ORIGIN_PATH):\n",
    "  mkdir(DATA_ORIGIN_PATH)\n",
    "\n",
    "if not path.exists(VENDOR_PATH):\n",
    "  mkdir(VENDOR_PATH)\n",
    "\n",
    "if not path.exists(TMP_PATH):\n",
    "  mkdir(TMP_PATH)\n",
    "\n",
    "if not path.exists(OUTPUT_DIR):\n",
    "  mkdir(OUTPUT_DIR)\n"
   ]
  },
  {
   "cell_type": "markdown",
   "metadata": {},
   "source": [
    "## XML Preprocessing"
   ]
  },
  {
   "cell_type": "markdown",
   "metadata": {},
   "source": [
    "- Generate CID for all item\n",
    "- DELETE all \"Okuma\" occurrencies from the set2"
   ]
  },
  {
   "cell_type": "code",
   "execution_count": 141,
   "metadata": {},
   "outputs": [],
   "source": [
    "import csv\n",
    "from os import path\n",
    "from ipfs_cid import cid_sha256_hash\n",
    "\n",
    "LB300_FILE = path.join(DATA_ORIGIN_PATH, 'okuma_lb3000.csv')\n",
    "_, csv_filename = path.split(LB300_FILE)\n",
    "\n",
    "with open(LB300_FILE, 'r', encoding='utf-8-sig') as csvinput:\n",
    "  csvreader = csv.reader(csvinput)\n",
    "  csvheader = next(csvreader)\n",
    "\n",
    "  csv_output_filename = csv_filename.replace('.', '.complete.')\n",
    "  csv_output_file = path.join(DATA_PATH, csv_output_filename)\n",
    "  with open(csv_output_file, 'w') as csvoutput:\n",
    "    csvwriter = csv.writer(csvoutput)\n",
    "    csvwriter.writerow(csvheader + ['CID1', 'CID2'])\n",
    "\n",
    "    for row in csvreader:\n",
    "      if not row[9].startswith('OKUMA'):\n",
    "        cid1 = cid_sha256_hash(str.encode(row[2])) # itm_name1\n",
    "        cid2 = cid_sha256_hash(str.encode(row[9])) # itm_name2\n",
    "        csvwriter.writerow(row + [cid1, cid2])\n"
   ]
  },
  {
   "cell_type": "markdown",
   "metadata": {},
   "source": [
    "* Split \"machinetool\" and \"components\" in two distinct files"
   ]
  },
  {
   "cell_type": "code",
   "execution_count": 142,
   "metadata": {},
   "outputs": [],
   "source": [
    "import csv\n",
    "from os import path\n",
    "from ipfs_cid import cid_sha256_hash\n",
    "\n",
    "LB300_FILE = path.join(DATA_PATH, 'okuma_lb3000.complete.csv')\n",
    "_, csv_filename = path.split(LB300_FILE)\n",
    "\n",
    "mtools_filename = csv_filename.replace('.complete.', '.mtools.')\n",
    "mtools_file = path.join(DATA_PATH, mtools_filename)\n",
    "\n",
    "components_filename = csv_filename.replace('.complete.', '.components.')\n",
    "components_file = path.join(DATA_PATH, components_filename)\n",
    "\n",
    "with open(LB300_FILE, 'r', encoding='utf-8-sig') as csvinput:\n",
    "  csvreader = csv.reader(csvinput)\n",
    "  csvheader = next(csvreader)\n",
    "\n",
    "  with open(mtools_file, 'w') as mtools_out, open(components_file, 'w') as components_out:\n",
    "    mtools_writer = csv.writer(mtools_out)\n",
    "    mtools_writer.writerow(csvheader)\n",
    "\n",
    "    components_writer = csv.writer(components_out)\n",
    "    components_writer.writerow(csvheader)\n",
    "\n",
    "    for row in csvreader:\n",
    "      if row[2].startswith('OKUMA'): # itm_name1\n",
    "        mtools_writer.writerow(row)\n",
    "      else:\n",
    "        components_writer.writerow(row)"
   ]
  },
  {
   "cell_type": "markdown",
   "metadata": {},
   "source": [
    "## RML Bundle"
   ]
  },
  {
   "cell_type": "code",
   "execution_count": 143,
   "metadata": {},
   "outputs": [
    {
     "name": "stdout",
     "output_type": "stream",
     "text": [
      "Generating RML mapping bundle\n",
      " * Creating backup of existing mapping file \u001b[0;32mDONE\u001b[0m\n",
      " * Creating new mapping file ...... \u001b[0;32mDONE\u001b[0m\n"
     ]
    }
   ],
   "source": [
    "import shutil\n",
    "from os import path\n",
    "\n",
    "print(\"Generating RML mapping bundle\")\n",
    "\n",
    "if path.isfile(MAPPING_TEMPLATE):\n",
    "  print(\" * Creating backup of existing mapping file \", end='')\n",
    "  shutil.move(MAPPING_TEMPLATE, MAPPING_TEMPLATE_BAK)\n",
    "  print(f\"{GREEN}DONE{NC}\")\n",
    "\n",
    "RULE_FILE_PATH = path.join(RML_RULES_PATH, '**', '*.part.ttl')\n",
    "rule_files = glob(RULE_FILE_PATH, recursive=True)\n",
    "rule_files.sort()\n",
    "\n",
    "print(\" * Creating new mapping file \", end='')\n",
    "with open(MAPPING_TEMPLATE, 'w') as bundle:\n",
    "  for rule_file in rule_files:\n",
    "    print('.', sep='', end='', flush=True)\n",
    "    with open(rule_file, 'r') as rule:\n",
    "      shutil.copyfileobj(rule, bundle)\n",
    "    bundle.write('\\n')\n",
    "  print(' ', sep='', end='', flush=True)\n",
    "print(f\"{GREEN}DONE{NC}\")"
   ]
  },
  {
   "cell_type": "markdown",
   "metadata": {},
   "source": [
    "## Mapping\n",
    "\n",
    "### Requirements\n",
    "Install [rmlmapper](https://github.com/RMLio/rmlmapper-java/releases/tag/v7.0.0) jar"
   ]
  },
  {
   "cell_type": "code",
   "execution_count": 144,
   "metadata": {},
   "outputs": [
    {
     "data": {
      "text/plain": [
       "0"
      ]
     },
     "execution_count": 144,
     "metadata": {},
     "output_type": "execute_result"
    }
   ],
   "source": [
    "import subprocess\n",
    "\n",
    "CLASSES_CSV = path.join(DATA_ORIGIN_PATH, 'classes.csv')\n",
    "LB300_MTOOLS_CSV = path.join(DATA_PATH, 'okuma_lb3000.mtools.csv')\n",
    "LB300_COMPONENTS_CSV = path.join(DATA_PATH, 'okuma_lb3000.components.csv')\n",
    "\n",
    "LB300_CSV = path.join(DATA_ORIGIN_PATH, 'okuma_lb3000.csv')\n",
    "_, csv_filename = path.split(LB300_CSV)\n",
    "KG_FILE = path.join(OUTPUT_DIR, csv_filename.replace('.csv', '.nt'))\n",
    "\n",
    "with open(MAPPING_TEMPLATE, 'r') as template_file:\n",
    "  content = template_file.read()\n",
    "  content = content.replace('__CLASSES_CSV__', CLASSES_CSV)\n",
    "  content = content.replace('__MTOOLS_SOURCE__', LB300_MTOOLS_CSV)\n",
    "  content = content.replace('__COMPONENT_SOURCE__', LB300_COMPONENTS_CSV)\n",
    "\n",
    "  with open(MAPPING_FILE, 'w') as mapping_file:\n",
    "    mapping_file.write(content)\n",
    "\n",
    "subprocess.call([\n",
    "  'java', '-jar', RML_MAPPER_JAR,\n",
    "    '-m', MAPPING_FILE,\n",
    "    '-o', KG_FILE\n",
    "])\n"
   ]
  }
 ],
 "metadata": {
  "kernelspec": {
   "display_name": "p3_11-olartes",
   "language": "python",
   "name": "python3"
  },
  "language_info": {
   "codemirror_mode": {
    "name": "ipython",
    "version": 3
   },
   "file_extension": ".py",
   "mimetype": "text/x-python",
   "name": "python",
   "nbconvert_exporter": "python",
   "pygments_lexer": "ipython3",
   "version": "3.11.9"
  }
 },
 "nbformat": 4,
 "nbformat_minor": 2
}
